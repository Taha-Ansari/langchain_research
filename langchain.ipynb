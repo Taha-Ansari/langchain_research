{
 "cells": [
  {
   "attachments": {},
   "cell_type": "markdown",
   "metadata": {},
   "source": [
    "# Learning Langchain"
   ]
  },
  {
   "attachments": {},
   "cell_type": "markdown",
   "metadata": {},
   "source": [
    "### Prerequisite installs\n",
    "```pip install langchain```\n",
    "\n",
    "```pip install openai```\n",
    "\n",
    "```pip install wikipedia```\n"
   ]
  },
  {
   "attachments": {},
   "cell_type": "markdown",
   "metadata": {},
   "source": [
    "### Setup\n",
    "\n",
    "You will need to import OpenAI to use their models. It requires an environmental variable called 'OPENAI_API_KEY' with the API key value from https://platform.openai.com/account/api-keys."
   ]
  },
  {
   "cell_type": "code",
   "execution_count": 1,
   "metadata": {},
   "outputs": [],
   "source": [
    "from langchain.llms import OpenAI\n",
    "from secret_keys import openai_key\n",
    "import os\n",
    "os.environ['OPENAI_API_KEY'] = openai_key"
   ]
  },
  {
   "attachments": {},
   "cell_type": "markdown",
   "metadata": {},
   "source": [
    "### How to use the llm object\n",
    "Object that serves as the interface for interacting with a model via supplied prompt. This could be OpenAI, Bloom or even a custom LLM wrapper.\n"
   ]
  },
  {
   "cell_type": "code",
   "execution_count": 2,
   "metadata": {},
   "outputs": [
    {
     "name": "stdout",
     "output_type": "stream",
     "text": [
      "\n",
      "\n",
      "FC Dynamo\n"
     ]
    }
   ],
   "source": [
    "llm = OpenAI(temperature=0.6)\n",
    "name = llm('I want to create a soccer team. Please give me a name suggestion for the team')\n",
    "print(name)"
   ]
  },
  {
   "attachments": {},
   "cell_type": "markdown",
   "metadata": {},
   "source": [
    "### Prompt templates\n",
    "Templates to pass to the LLM object to simplify prompt management. Input variables are defined in a list `input_variables` and used in the template with {variable_name} syntax."
   ]
  },
  {
   "cell_type": "code",
   "execution_count": 27,
   "metadata": {},
   "outputs": [
    {
     "data": {
      "text/plain": [
       "'I want to create a volleyball team. Please give me a name suggestion for the team'"
      ]
     },
     "execution_count": 27,
     "metadata": {},
     "output_type": "execute_result"
    }
   ],
   "source": [
    "from langchain.prompts import PromptTemplate\n",
    "\n",
    "# Create the template\n",
    "sport_team_prompt_template = PromptTemplate(\n",
    "    input_variables=['sport'],\n",
    "    template = \"I want to create a {sport} team. Please give me a name suggestion for the team\"\n",
    ")\n",
    "\n",
    "# Pass the input variables with format method\n",
    "sport_team_prompt_template.format(sport='volleyball')\n",
    "\n"
   ]
  },
  {
   "attachments": {},
   "cell_type": "markdown",
   "metadata": {},
   "source": [
    "### Chains\n",
    "An object that is supplied the llm and prompt template objects and returns the output from the llm with the prompt supplied via template."
   ]
  },
  {
   "cell_type": "code",
   "execution_count": 28,
   "metadata": {},
   "outputs": [
    {
     "data": {
      "text/plain": [
       "'\\n\\nThe Night Hawks'"
      ]
     },
     "execution_count": 28,
     "metadata": {},
     "output_type": "execute_result"
    }
   ],
   "source": [
    "from langchain.chains import LLMChain\n",
    "\n",
    "# Create the chain\n",
    "sport_chain = LLMChain(llm=llm, prompt=sport_team_prompt_template)\n",
    "sport_chain.run('Football')\n"
   ]
  },
  {
   "attachments": {},
   "cell_type": "markdown",
   "metadata": {},
   "source": [
    "### Simple sequential chain\n",
    "A way to run one chain after the other, taking input from one and supplying it to the next.\n"
   ]
  },
  {
   "cell_type": "code",
   "execution_count": 37,
   "metadata": {},
   "outputs": [
    {
     "name": "stdout",
     "output_type": "stream",
     "text": [
      "\n",
      "\n",
      "Volley Bear\n"
     ]
    }
   ],
   "source": [
    "from langchain.chains import SimpleSequentialChain\n",
    "\n",
    "# Create the first chain template\n",
    "sport_team_prompt_template = PromptTemplate(\n",
    "    input_variables=['sport'],\n",
    "    template = \"I want to create a {sport} team. Please give me a name suggestion for the team\"\n",
    ")\n",
    "\n",
    "# Create the first chain object\n",
    "sport_chain = LLMChain(llm=llm, prompt=sport_team_prompt_template)\n",
    "\n",
    "# Create a second template\n",
    "mascot_prompt_template = PromptTemplate(\n",
    "    input_variables=['team_name'],\n",
    "    template = \"Give me a mascot idea for a team named {team_name}. Respond in 2-3 words\"\n",
    ")\n",
    "\n",
    "# Pass the second template to a second chain object\n",
    "mascot_chain = LLMChain(llm=llm, prompt=mascot_prompt_template)\n",
    "\n",
    "# Create a simple sequential chain combining the two chains\n",
    "ss_chain = SimpleSequentialChain(chains = [sport_chain, mascot_chain])\n",
    "response = ss_chain.run('Volleyball')\n",
    "print(response)"
   ]
  },
  {
   "attachments": {},
   "cell_type": "markdown",
   "metadata": {},
   "source": [
    "### Sequential Chain\n",
    "Creates a chain object that can utilize output keys to pass information. "
   ]
  },
  {
   "cell_type": "code",
   "execution_count": 39,
   "metadata": {},
   "outputs": [
    {
     "data": {
      "text/plain": [
       "{'sport': 'Soccer',\n",
       " 'team_name': '\\n\\nFlaming Falcons',\n",
       " 'mascot': '\\n\\nFire Phoenix.'}"
      ]
     },
     "execution_count": 39,
     "metadata": {},
     "output_type": "execute_result"
    }
   ],
   "source": [
    "from langchain.chains import SequentialChain\n",
    "\n",
    "# Create the first chain template\n",
    "sport_team_prompt_template = PromptTemplate(\n",
    "    input_variables=['sport'],\n",
    "    template = \"I want to create a {sport} team. Please give me a name suggestion for the team\"\n",
    ")\n",
    "\n",
    "# Create the first chain object, this time adding an output_key\n",
    "sport_chain = LLMChain(llm=llm, prompt=sport_team_prompt_template, output_key=\"team_name\")\n",
    "\n",
    "# Create a second template\n",
    "mascot_prompt_template = PromptTemplate(\n",
    "    input_variables=['team_name'],\n",
    "    template = \"Give me a mascot idea for a team named {team_name}. Respond in 2-3 words\"\n",
    ")\n",
    "\n",
    "# Pass the second template to a second chain object, this time adding an output_key\n",
    "mascot_chain = LLMChain(llm=llm, prompt=mascot_prompt_template, output_key=\"mascot\")\n",
    "\n",
    "chain = SequentialChain(\n",
    "    chains=[sport_chain, mascot_chain],\n",
    "    input_variables=['sport'],\n",
    "    output_variables=['team_name', 'mascot']\n",
    ")\n",
    "chain({'sport': 'Soccer'})"
   ]
  },
  {
   "attachments": {
    "image.png": {
     "image/png": "[encoded data removed]"
    }
   },
   "cell_type": "markdown",
   "metadata": {},
   "source": [
    "![image.png](attachment:image.png)"
   ]
  },
  {
   "attachments": {},
   "cell_type": "markdown",
   "metadata": {},
   "source": [
    "### Agents\n",
    " An agent has access to a suite of tools, and determines which ones to use depending on the user input. Agents can use multiple tools, and use the output of one tool as the input to the next."
   ]
  },
  {
   "cell_type": "code",
   "execution_count": 46,
   "metadata": {},
   "outputs": [
    {
     "name": "stdout",
     "output_type": "stream",
     "text": [
      "\n",
      "\n",
      "\u001b[1m> Entering new  chain...\u001b[0m\n",
      "\u001b[32;1m\u001b[1;3m I should find out what the tallest building in the world is.\n",
      "Action: Wikipedia\n",
      "Action Input: Tallest building in the world\u001b[0m\n",
      "Observation: \u001b[36;1m\u001b[1;3mPage: List of tallest buildings\n",
      "Summary: Tall buildings, such as skyscrapers, are intended here as enclosed structures with continuously occupiable floors and a height of at least 340 metres (1,120 ft). Such definition excludes non-building structures, such as towers.\n",
      "\n",
      "Page: List of tallest buildings and structures\n",
      "Summary: The world's tallest human-made structure is the 828-metre-tall (2,717 ft) Burj Khalifa in Dubai, United Arab Emirates. The building gained the official title of \"tallest building in the world\" and the tallest self-supported structure at its opening on January 9, 2010. The second-tallest self-supporting structure and the tallest tower in the world is the Tokyo Skytree. The tallest guyed structure is the KVLY-TV mast in North Dakota, USA at 606 metres (1,987 ft).\n",
      "The Council on Tall Buildings and Urban Habitat, an organization that certifies buildings as the \"World's Tallest\", recognizes a building only if at least 49% of its height is made up of floor plates containing habitable floor area. Structures that do not meet this criterion, such as the CN Tower, are defined as \"towers\".\n",
      "There are dozens of radio and television broadcasting towers which measure over 600 metres (about 2,000 ft) in height, and only the tallest are recorded in publicly available information sources.\n",
      "\n",
      "\n",
      "\n",
      "Page: List of tallest buildings in New York City\n",
      "Summary: New York City, the most populous city in the United States, is home to over 7,000 completed high-rise buildings of at least 115 feet (35 m), of which at least 101 are taller than 650 feet (198 m). The tallest building in New York is One World Trade Center, which rises 1,776 feet (541 m). The 104-story skyscraper also stands as the tallest building in the United States, the tallest building in the Western Hemisphere, and the seventh-tallest building in the world. At 1,550 feet (472 m), Central Park Tower is the second-tallest completed building in the city. It has the highest roof of any building outside Asia, and is the tallest residential building in the world. The third-tallest completed building in the city is 111 West 57th Street. Rising to 1,428 feet (435 m), it is the world's most slender skyscraper. The fourth-tallest is One Vanderbilt. At 1,401 feet (427 m), it is the tallest office building in Midtown. The fifth-tallest is 432 Park Avenue at 1,397 feet (426 m).At 1,250 feet (381 m), the 102-story Empire State Building in Midtown Manhattan, which was finished in 1931, stood as the tallest building in the world from its completion until 1970, when construction on the 1,368-foot (417 m) North Tower of the original World Trade Center surpassed it. It is the ninth-tallest building in the United States, and rises to a pinnacle of 1,454 feet (443 m) including its antenna. The North Tower (the original One World Trade Center), along with its twin the South Tower (the first Two World Trade Center), which was six feet shorter, held this title only briefly as they were both surpassed by construction of the 110-story Willis Tower in Chicago in 1973. The Twin Towers remained the tallest buildings in New York City until they were destroyed in 2001 during the September 11 attacks, leaving the Empire State Building again as the city's tallest building.The new One World Trade Center began construction in 2006; in April 2012 it surpassed the Empire State Building to become the city's tallest. Upon its topping out in May 2013, the 1,776-foot (541 m) One World Trade Center surpassed the Willis Tower to become the tallest building in the United States, and the Western Hemisphere. One World Trade Center is part of the redevelopment of the World Trade Center, which also includes the 1,079-foot (329 m) 3 World Trade Center, the 977-foot (298 m) 4 World Trade Center, the 743-foot (226 m) 7 World Trade Center, the proposed 900-foot (274 m) 5 World Trade Center, and one partly constructed on-hold building: the 1,350-foot (411 m) 2 World Trade Center.The majority of skyscrapers in New York City are \u001b[0m\n",
      "Thought:\u001b[32;1m\u001b[1;3m I now know the final answer\n",
      "Final Answer: The tallest building in the world currently is the Burj Khalifa in Dubai, United Arab Emirates, which stands at 828 metres (2,717 ft).\u001b[0m\n",
      "\n",
      "\u001b[1m> Finished chain.\u001b[0m\n"
     ]
    },
    {
     "data": {
      "text/plain": [
       "'The tallest building in the world currently is the Burj Khalifa in Dubai, United Arab Emirates, which stands at 828 metres (2,717 ft).'"
      ]
     },
     "execution_count": 46,
     "metadata": {},
     "output_type": "execute_result"
    }
   ],
   "source": [
    "from langchain.agents import AgentType, initialize_agent, load_tools\n",
    "from langchain.llms import OpenAI\n",
    "\n",
    "# Load the tools the agent will use\n",
    "tools = load_tools([\"wikipedia\"], llm=llm)\n",
    "# Initialize agent\n",
    "agent = initialize_agent(\n",
    "    tools,\n",
    "    llm,\n",
    "    agent=AgentType.ZERO_SHOT_REACT_DESCRIPTION,\n",
    "    verbose=True\n",
    ")\n",
    "# Run the agent\n",
    "agent.run('What is the tallest building in the world currently?')"
   ]
  }
 ],
 "metadata": {
  "kernelspec": {
   "display_name": "Python 3",
   "language": "python",
   "name": "python3"
  },
  "language_info": {
   "codemirror_mode": {
    "name": "ipython",
    "version": 3
   },
   "file_extension": ".py",
   "mimetype": "text/x-python",
   "name": "python",
   "nbconvert_exporter": "python",
   "pygments_lexer": "ipython3",
   "version": "3.9.13"
  },
  "orig_nbformat": 4,
  "vscode": {
   "interpreter": {
    "hash": "76db8a9924bb79784872edc94f1226e11ea8995f030a2a1a03b6f8bd042efdc2"
   }
  }
 },
 "nbformat": 4,
 "nbformat_minor": 2
}
